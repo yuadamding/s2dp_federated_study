{
 "cells": [
  {
   "cell_type": "code",
   "execution_count": null,
   "metadata": {},
   "outputs": [],
   "source": [
    "import pandas as pd\n",
    "import matplotlib.pyplot as plt\n",
    "import seaborn as sns\n",
    "import os\n",
    "sns.set_theme(style=\"whitegrid\", font_scale=1.2)\n",
    "RESULTS_DIR = '../results'"
   ]
  },
  {
   "cell_type": "markdown",
   "metadata": {},
   "source": [
    "## Study 1: Analytic vs. Empirical Sensitivity Check"
   ]
  },
  {
   "cell_type": "code",
   "execution_count": null,
   "metadata": {},
   "outputs": [],
   "source": [
    "df = pd.read_csv(os.path.join(RESULTS_DIR, 'sensitivity_check/results.csv'))\n",
    "df_agg = df.groupby('lambda').mean().reset_index()\n",
    "df_plot = pd.melt(df_agg, id_vars=['lambda'], value_vars=['analytic_sensitivity', 'empirical_sensitivity'], var_name='Sensitivity Type', value_name='Value')\n",
    "plt.figure(figsize=(10, 6))\n",
    "sns.lineplot(data=df_plot, x='lambda', y='Value', hue='Sensitivity Type', style='Sensitivity Type', markers=True, dashes=False, lw=2.5, markersize=10).set(xscale='log', yscale='log', xlabel='Smoothing Parameter (λ)', ylabel='Sensitivity (Δ₂) Value (log scale)', title='Analytic vs. Empirical Sensitivity')\n",
    "plt.legend(title='Sensitivity Type'); plt.show()"
   ]
  },
  {
   "cell_type": "markdown",
   "metadata": {},
   "source": [
    "## Study 2: Basis Mis-specification Ablation"
   ]
  },
  {
   "cell_type": "code",
   "execution_count": null,
   "metadata": {},
   "outputs": [],
   "source": [
    "df = pd.read_csv(os.path.join(RESULTS_DIR, 'basis-ablation/results.csv'))\n",
    "df_agg = df.groupby('basis_family').mean().reset_index()\n",
    "plt.figure(figsize=(10, 6))\n",
    "sns.barplot(data=df_agg, x='basis_family', y='mse').set(xlabel='Basis Family', ylabel='Mean Squared Error (MSE)', title='Impact of Basis Mis-specification on Model Utility')\n",
    "plt.show()"
   ]
  },
  {
   "cell_type": "markdown",
   "metadata": {},
   "source": [
    "## Study 3: Attribute Inference Attack Success vs. Privacy"
   ]
  },
  {
   "cell_type": "code",
   "execution_count": null,
   "metadata": {},
   "outputs": [],
   "source": [
    "df = pd.read_csv(os.path.join(RESULTS_DIR, 'attribute_inference_attack/results.csv'))\n",
    "df_agg = df.groupby('epsilon').mean().reset_index()\n",
    "df_agg['epsilon'] = df_agg['epsilon'].astype(str).replace('inf', 'Non-Private')\n",
    "plt.figure(figsize=(10, 6))\n",
    "sns.barplot(data=df_agg, x='epsilon', y='auc', color='darkcyan').set(xlabel='Privacy Budget (ε)', ylabel='AIA Success (AUC)', title='Privacy Preservation vs. Attribute Inference Attack')\n",
    "plt.axhline(y=0.5, color='black', linestyle='--'); plt.legend(labels=['Random Guessing'])\n",
    "plt.show()"
   ]
  },
  {
   "cell_type": "markdown",
   "metadata": {},
   "source": [
    "## Study 4: Scalability Analysis"
   ]
  },
  {
   "cell_type": "code",
   "execution_count": null,
   "metadata": {},
   "outputs": [],
   "source": [
    "df = pd.read_csv(os.path.join(RESULTS_DIR, 'scalability/results.csv'))\n",
    "df_agg = df.groupby(['n_subjects', 'n_parties', 'M_rounds']).mean().reset_index()\n",
    "fig, axes = plt.subplots(1, 2, figsize=(18, 7))\n",
    "sns.lineplot(data=df_agg, x='n_subjects', y='runtime', hue='n_parties', style='M_rounds', marker='o', ax=axes[0]).set(title='Runtime vs. Number of Subjects', xlabel='Number of Subjects (n)', ylabel='Wall-Clock Time (seconds)')\n",
    "sns.lineplot(data=df_agg, x='n_parties', y='comms_bytes', hue='n_subjects', style='M_rounds', marker='o', ax=axes[1]).set(title='Communication Cost vs. Number of Parties', xlabel='Number of Parties (K)', ylabel='Total Bytes Transmitted')\n",
    "fig.tight_layout(); plt.show()"
   ]
  },
  {
   "cell_type": "markdown",
   "metadata": {},
   "source": [
    "## Study 5: Harmonisation Mis-specification"
   ]
  },
  {
   "cell_type": "code",
   "execution_count": null,
   "metadata": {},
   "outputs": [],
   "source": [
    "df = pd.read_csv(os.path.join(RESULTS_DIR, 'harmonisation_mis_specification/results.csv'))\n",
    "df_agg = df.groupby('B_public').mean().reset_index()\n",
    "plt.figure(figsize=(10, 6))\n",
    "sns.barplot(data=df_agg, x='B_public', y='mse').set(xlabel='Assumed Public Bound (B_public)', ylabel='Mean Squared Error (MSE)', title='Impact of Public Bound Mis-specification (True B = 15)')\n",
    "plt.show()"
   ]
  },
  {
   "cell_type": "markdown",
   "metadata": {},
   "source": [
    "## Study 6: Party Drop-out"
   ]
  },
  {
   "cell_type": "code",
   "execution_count": null,
   "metadata": {},
   "outputs": [],
   "source": [
    "df = pd.read_csv(os.path.join(RESULTS_DIR, 'party_dropout/results.csv'))\n",
    "df_agg = df.groupby('dropout').mean().reset_index()\n",
    "plt.figure(figsize=(10, 6))\n",
    "sns.barplot(data=df_agg, x='dropout', y='mse').set(xlabel='Scenario', ylabel='Mean Squared Error (MSE)', title='Impact of Party Drop-out on Final Model Utility')\n",
    "plt.show()"
   ]
  },
  {
   "cell_type": "markdown",
   "metadata": {},
   "source": [
    "## Study 7: Central vs. Local DP"
   ]
  },
  {
   "cell_type": "code",
   "execution_count": null,
   "metadata": {},
   "outputs": [],
   "source": [
    "df = pd.read_csv(os.path.join(RESULTS_DIR, 'central_vs_local_dp/results.csv'))\n",
    "df_agg = df.groupby(['epsilon', 'mechanism']).mean().reset_index()\n",
    "plt.figure(figsize=(10, 6))\n",
    "sns.lineplot(data=df_agg, x='epsilon', y='mse', hue='mechanism', style='mechanism', markers=True, dashes=False, lw=2.5, markersize=10).set(xscale='log', xlabel='Privacy Budget (ε)', ylabel='Mean Squared Error (MSE)', title='Local DP vs. Central DP Baseline')\n",
    "plt.show()"
   ]
  },
  {
   "cell_type": "markdown",
   "metadata": {},
   "source": [
    "## Study 8: Heavy-Tailed Error Distribution"
   ]
  },
  {
   "cell_type": "code",
   "execution_count": null,
   "metadata": {},
   "outputs": [],
   "source": [
    "df = pd.read_csv(os.path.join(RESULTS_DIR, 'heavy_tailed_error/results.csv'))\n",
    "# This study only has one result, just print it\n",
    "print('MSE under Student-t (df=3) error:')\n",
    "print(df['mse'].mean())"
   ]
  }
 ],
 "metadata": {
  "kernelspec": {
   "display_name": "Python 3",
   "language": "python",
   "name": "python3"
  },
  "language_info": {
   "version": "3.10.9"
  }
 },
 "nbformat": 4,
 "nbformat_minor": 2
}
